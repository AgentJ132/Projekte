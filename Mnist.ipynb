{
 "cells": [
  {
   "cell_type": "code",
   "execution_count": 76,
   "id": "0a402e36-3605-4f33-bb70-3fd87286dc15",
   "metadata": {},
   "outputs": [
    {
     "data": {
      "text/plain": [
       "0.9777777777777777"
      ]
     },
     "execution_count": 76,
     "metadata": {},
     "output_type": "execute_result"
    }
   ],
   "source": [
    "import pyarrow.feather as feather\n",
    "import seaborn as sns\n",
    "import numpy as np\n",
    "import pandas as pd\n",
    "from sklearn.model_selection import train_test_split\n",
    "from sklearn.neighbors import KNeighborsClassifier\n",
    "from sklearn.metrics import accuracy_score\n",
    "\n",
    "mnist_data = feather.read_feather(\"mnist.feather\")\n",
    "mnist_data.to_csv(\"mnist.csv\")\n",
    "mnist_data = mnist_data.dropna()\n",
    "\n",
    "X = mnist_data.drop([\"target\"], axis = 1)\n",
    "y = mnist_data[\"target\"]\n",
    "\n",
    "X_train, X_test, y_train, y_test = train_test_split(X, y, test_size = 0.2)\n",
    "\n",
    "model = KNeighborsClassifier(n_neighbors = 15)\n",
    "model.fit(X_train, y_train)\n",
    "predictions = model.predict(X_test)\n",
    "accuracy_score(predictions, y_test)"
   ]
  },
  {
   "cell_type": "code",
   "execution_count": 78,
   "id": "37bf8a7b-7ca2-4f3e-a026-3f9c9a76d66d",
   "metadata": {},
   "outputs": [
    {
     "data": {
      "text/plain": [
       "<bound method NDFrame.describe of        target  cell_1  cell_2  cell_3  cell_4  cell_5  cell_6  cell_7  cell_8  \\\n",
       "0     digit_0       0       0       5      13       9       1       0       0   \n",
       "1     digit_1       0       0       0      12      13       5       0       0   \n",
       "2     digit_2       0       0       0       4      15      12       0       0   \n",
       "3     digit_3       0       0       7      15      13       1       0       0   \n",
       "4     digit_4       0       0       0       1      11       0       0       0   \n",
       "...       ...     ...     ...     ...     ...     ...     ...     ...     ...   \n",
       "1792  digit_9       0       0       4      10      13       6       0       0   \n",
       "1793  digit_0       0       0       6      16      13      11       1       0   \n",
       "1794  digit_8       0       0       1      11      15       1       0       0   \n",
       "1795  digit_9       0       0       2      10       7       0       0       0   \n",
       "1796  digit_8       0       0      10      14       8       1       0       0   \n",
       "\n",
       "      cell_9  ...  cell_55  cell_56  cell_57  cell_58  cell_59  cell_60  \\\n",
       "0          0  ...        0        0        0        0        6       13   \n",
       "1          0  ...        0        0        0        0        0       11   \n",
       "2          0  ...        5        0        0        0        0        3   \n",
       "3          0  ...        9        0        0        0        7       13   \n",
       "4          0  ...        0        0        0        0        0        2   \n",
       "...      ...  ...      ...      ...      ...      ...      ...      ...   \n",
       "1792       0  ...        4        0        0        0        2       14   \n",
       "1793       0  ...        1        0        0        0        6       16   \n",
       "1794       0  ...        0        0        0        0        2        9   \n",
       "1795       0  ...        2        0        0        0        5       12   \n",
       "1796       0  ...        8        0        0        1        8       12   \n",
       "\n",
       "      cell_61  cell_62  cell_63  cell_64  \n",
       "0          10        0        0        0  \n",
       "1          16       10        0        0  \n",
       "2          11       16        9        0  \n",
       "3          13        9        0        0  \n",
       "4          16        4        0        0  \n",
       "...       ...      ...      ...      ...  \n",
       "1792       15        9        0        0  \n",
       "1793       14        6        0        0  \n",
       "1794       13        6        0        0  \n",
       "1795       16       12        0        0  \n",
       "1796       14       12        1        0  \n",
       "\n",
       "[1797 rows x 65 columns]>"
      ]
     },
     "execution_count": 78,
     "metadata": {},
     "output_type": "execute_result"
    }
   ],
   "source": [
    "mnist_data.describe"
   ]
  },
  {
   "cell_type": "code",
   "execution_count": null,
   "id": "b1276b15-8207-409d-933e-9bb61c16bef2",
   "metadata": {},
   "outputs": [],
   "source": [
    "mnist_data_short = mnist_data[[\"target\", \"cell_1\", \"cell_2\", \"cell_3\", \"cell_4\", \"cell_5\"]]\n",
    "sns.pairplot(data=mnist_data, hue=\"target\")"
   ]
  },
  {
   "cell_type": "code",
   "execution_count": null,
   "id": "6d9aaa29-757c-4c3f-9a31-b66e30388e4b",
   "metadata": {},
   "outputs": [],
   "source": []
  }
 ],
 "metadata": {
  "kernelspec": {
   "display_name": "Python [conda env:base] *",
   "language": "python",
   "name": "conda-base-py"
  },
  "language_info": {
   "codemirror_mode": {
    "name": "ipython",
    "version": 3
   },
   "file_extension": ".py",
   "mimetype": "text/x-python",
   "name": "python",
   "nbconvert_exporter": "python",
   "pygments_lexer": "ipython3",
   "version": "3.12.7"
  }
 },
 "nbformat": 4,
 "nbformat_minor": 5
}
